{
 "cells": [
  {
   "cell_type": "code",
   "execution_count": 1,
   "id": "d57c283a",
   "metadata": {},
   "outputs": [
    {
     "name": "stdout",
     "output_type": "stream",
     "text": [
      "\n",
      "    Funcion para importar librerias\n",
      "    \n",
      "    Librerias\n",
      "    ---------------\n",
      "    Pandas\n",
      "    Sklearn\n",
      "    Matplotlib\n",
      "    Seaborn\n",
      "    \n"
     ]
    }
   ],
   "source": [
    "def librerias():\n",
    "    '''\n",
    "    Funcion para importar librerias\n",
    "    \n",
    "    Librerias\n",
    "    ---------------\n",
    "    Pandas\n",
    "    Sklearn\n",
    "    Matplotlib\n",
    "    Seaborn\n",
    "    '''\n",
    "from sklearn import datasets\n",
    "from sklearn.model_selection import train_test_split\n",
    "\n",
    "import matplotlib.pyplot as plt\n",
    "import seaborn as sns\n",
    "\n",
    "print(librerias.__doc__)\n",
    "    \n",
    "    \n",
    "    \n",
    "    "
   ]
  },
  {
   "cell_type": "code",
   "execution_count": null,
   "id": "722f08f4",
   "metadata": {},
   "outputs": [],
   "source": []
  }
 ],
 "metadata": {
  "kernelspec": {
   "display_name": "Python 3 (ipykernel)",
   "language": "python",
   "name": "python3"
  },
  "language_info": {
   "codemirror_mode": {
    "name": "ipython",
    "version": 3
   },
   "file_extension": ".py",
   "mimetype": "text/x-python",
   "name": "python",
   "nbconvert_exporter": "python",
   "pygments_lexer": "ipython3",
   "version": "3.9.12"
  }
 },
 "nbformat": 4,
 "nbformat_minor": 5
}
